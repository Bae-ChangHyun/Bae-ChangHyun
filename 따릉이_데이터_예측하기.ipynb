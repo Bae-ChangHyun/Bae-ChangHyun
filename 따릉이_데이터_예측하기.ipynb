{
  "nbformat": 4,
  "nbformat_minor": 0,
  "metadata": {
    "colab": {
      "name": "따릉이 데이터 예측하기.ipynb",
      "provenance": [],
      "collapsed_sections": [],
      "authorship_tag": "ABX9TyPIQlGMpW4O2Y5FzXalAtMd",
      "include_colab_link": true
    },
    "kernelspec": {
      "name": "python3",
      "display_name": "Python 3"
    },
    "language_info": {
      "name": "python"
    }
  },
  "cells": [
    {
      "cell_type": "markdown",
      "metadata": {
        "id": "view-in-github",
        "colab_type": "text"
      },
      "source": [
        "<a href=\"https://colab.research.google.com/github/Bae-ChangHyun/Bae-ChangHyun/blob/main/%EB%94%B0%EB%A6%89%EC%9D%B4_%EB%8D%B0%EC%9D%B4%ED%84%B0_%EC%98%88%EC%B8%A1%ED%95%98%EA%B8%B0.ipynb\" target=\"_parent\"><img src=\"https://colab.research.google.com/assets/colab-badge.svg\" alt=\"Open In Colab\"/></a>"
      ]
    },
    {
      "cell_type": "markdown",
      "metadata": {
        "id": "123ukoXkSjjm"
      },
      "source": [
        "라이브러리 불러오기"
      ]
    },
    {
      "cell_type": "code",
      "metadata": {
        "id": "SK1RrTYESlcl"
      },
      "source": [
        "import pandas as pd "
      ],
      "execution_count": 1,
      "outputs": []
    },
    {
      "cell_type": "markdown",
      "metadata": {
        "id": "vLpQDJqPS0nt"
      },
      "source": [
        "데이터 불러오기"
      ]
    },
    {
      "cell_type": "code",
      "metadata": {
        "colab": {
          "base_uri": "https://localhost:8080/"
        },
        "id": "-1ZGsPdGS10u",
        "outputId": "c1cb181a-4c5e-4e3b-9481-0723b64d6316"
      },
      "source": [
        "# 데이터 다운로드 링크로 데이터를 코랩에 불러옵니다.\n",
        "\n",
        "!wget 'https://bit.ly/3gLj0Q6'\n",
        "\n",
        "import zipfile\n",
        "with zipfile.ZipFile('3gLj0Q6', 'r') as existing_zip:\n",
        "    existing_zip.extractall('data')"
      ],
      "execution_count": 2,
      "outputs": [
        {
          "output_type": "stream",
          "name": "stdout",
          "text": [
            "--2021-12-01 13:59:53--  https://bit.ly/3gLj0Q6\n",
            "Resolving bit.ly (bit.ly)... 67.199.248.10, 67.199.248.11\n",
            "Connecting to bit.ly (bit.ly)|67.199.248.10|:443... connected.\n",
            "HTTP request sent, awaiting response... 301 Moved Permanently\n",
            "Location: https://drive.google.com/uc?export=download&id=1or_QN1ksv81DNog6Tu_kWcZ5jJWf5W9E [following]\n",
            "--2021-12-01 13:59:54--  https://drive.google.com/uc?export=download&id=1or_QN1ksv81DNog6Tu_kWcZ5jJWf5W9E\n",
            "Resolving drive.google.com (drive.google.com)... 108.177.119.100, 108.177.119.113, 108.177.119.138, ...\n",
            "Connecting to drive.google.com (drive.google.com)|108.177.119.100|:443... connected.\n",
            "HTTP request sent, awaiting response... 302 Moved Temporarily\n",
            "Location: https://doc-0c-10-docs.googleusercontent.com/docs/securesc/ha0ro937gcuc7l7deffksulhg5h7mbp1/eadtd389s9sec4dpmomihha1bg3579ae/1638367125000/17946651057176172524/*/1or_QN1ksv81DNog6Tu_kWcZ5jJWf5W9E?e=download [following]\n",
            "Warning: wildcards not supported in HTTP.\n",
            "--2021-12-01 13:59:54--  https://doc-0c-10-docs.googleusercontent.com/docs/securesc/ha0ro937gcuc7l7deffksulhg5h7mbp1/eadtd389s9sec4dpmomihha1bg3579ae/1638367125000/17946651057176172524/*/1or_QN1ksv81DNog6Tu_kWcZ5jJWf5W9E?e=download\n",
            "Resolving doc-0c-10-docs.googleusercontent.com (doc-0c-10-docs.googleusercontent.com)... 108.177.119.132, 2a00:1450:4013:c00::84\n",
            "Connecting to doc-0c-10-docs.googleusercontent.com (doc-0c-10-docs.googleusercontent.com)|108.177.119.132|:443... connected.\n",
            "HTTP request sent, awaiting response... 200 OK\n",
            "Length: 39208 (38K) [application/zip]\n",
            "Saving to: ‘3gLj0Q6’\n",
            "\n",
            "3gLj0Q6             100%[===================>]  38.29K  --.-KB/s    in 0s      \n",
            "\n",
            "2021-12-01 13:59:55 (145 MB/s) - ‘3gLj0Q6’ saved [39208/39208]\n",
            "\n"
          ]
        }
      ]
    },
    {
      "cell_type": "code",
      "metadata": {
        "id": "ff0wTI1VS2jA"
      },
      "source": [
        "import pandas as pd\n",
        "\n",
        "# 정답 코드\n",
        "train = pd.read_csv('data/train.csv') \n",
        "test = pd.read_csv('data/test.csv')"
      ],
      "execution_count": 3,
      "outputs": []
    },
    {
      "cell_type": "markdown",
      "metadata": {
        "id": "MUwffKoJT4QD"
      },
      "source": [
        "행,열 갯수 관찰하기"
      ]
    },
    {
      "cell_type": "code",
      "metadata": {
        "colab": {
          "base_uri": "https://localhost:8080/"
        },
        "id": "PAvceA5mT8yX",
        "outputId": "84cf418f-7e04-4cd2-951c-c1029c3be0f1"
      },
      "source": [
        "train.shape\n",
        "test.shape"
      ],
      "execution_count": 4,
      "outputs": [
        {
          "output_type": "execute_result",
          "data": {
            "text/plain": [
              "(715, 10)"
            ]
          },
          "metadata": {},
          "execution_count": 4
        }
      ]
    },
    {
      "cell_type": "markdown",
      "metadata": {
        "id": "YfysYqFbUYIK"
      },
      "source": [
        "파이썬 데이터 일부 확인하기"
      ]
    },
    {
      "cell_type": "code",
      "metadata": {
        "colab": {
          "base_uri": "https://localhost:8080/",
          "height": 424
        },
        "id": "Fw3ELlciUPfd",
        "outputId": "0281302a-1eff-469e-a154-ce37f7d45c97"
      },
      "source": [
        "train.head(100) "
      ],
      "execution_count": 6,
      "outputs": [
        {
          "output_type": "execute_result",
          "data": {
            "text/html": [
              "<div>\n",
              "<style scoped>\n",
              "    .dataframe tbody tr th:only-of-type {\n",
              "        vertical-align: middle;\n",
              "    }\n",
              "\n",
              "    .dataframe tbody tr th {\n",
              "        vertical-align: top;\n",
              "    }\n",
              "\n",
              "    .dataframe thead th {\n",
              "        text-align: right;\n",
              "    }\n",
              "</style>\n",
              "<table border=\"1\" class=\"dataframe\">\n",
              "  <thead>\n",
              "    <tr style=\"text-align: right;\">\n",
              "      <th></th>\n",
              "      <th>id</th>\n",
              "      <th>hour</th>\n",
              "      <th>hour_bef_temperature</th>\n",
              "      <th>hour_bef_precipitation</th>\n",
              "      <th>hour_bef_windspeed</th>\n",
              "      <th>hour_bef_humidity</th>\n",
              "      <th>hour_bef_visibility</th>\n",
              "      <th>hour_bef_ozone</th>\n",
              "      <th>hour_bef_pm10</th>\n",
              "      <th>hour_bef_pm2.5</th>\n",
              "      <th>count</th>\n",
              "    </tr>\n",
              "  </thead>\n",
              "  <tbody>\n",
              "    <tr>\n",
              "      <th>0</th>\n",
              "      <td>3</td>\n",
              "      <td>20</td>\n",
              "      <td>16.3</td>\n",
              "      <td>1.0</td>\n",
              "      <td>1.5</td>\n",
              "      <td>89.0</td>\n",
              "      <td>576.0</td>\n",
              "      <td>0.027</td>\n",
              "      <td>76.0</td>\n",
              "      <td>33.0</td>\n",
              "      <td>49.0</td>\n",
              "    </tr>\n",
              "    <tr>\n",
              "      <th>1</th>\n",
              "      <td>6</td>\n",
              "      <td>13</td>\n",
              "      <td>20.1</td>\n",
              "      <td>0.0</td>\n",
              "      <td>1.4</td>\n",
              "      <td>48.0</td>\n",
              "      <td>916.0</td>\n",
              "      <td>0.042</td>\n",
              "      <td>73.0</td>\n",
              "      <td>40.0</td>\n",
              "      <td>159.0</td>\n",
              "    </tr>\n",
              "    <tr>\n",
              "      <th>2</th>\n",
              "      <td>7</td>\n",
              "      <td>6</td>\n",
              "      <td>13.9</td>\n",
              "      <td>0.0</td>\n",
              "      <td>0.7</td>\n",
              "      <td>79.0</td>\n",
              "      <td>1382.0</td>\n",
              "      <td>0.033</td>\n",
              "      <td>32.0</td>\n",
              "      <td>19.0</td>\n",
              "      <td>26.0</td>\n",
              "    </tr>\n",
              "    <tr>\n",
              "      <th>3</th>\n",
              "      <td>8</td>\n",
              "      <td>23</td>\n",
              "      <td>8.1</td>\n",
              "      <td>0.0</td>\n",
              "      <td>2.7</td>\n",
              "      <td>54.0</td>\n",
              "      <td>946.0</td>\n",
              "      <td>0.040</td>\n",
              "      <td>75.0</td>\n",
              "      <td>64.0</td>\n",
              "      <td>57.0</td>\n",
              "    </tr>\n",
              "    <tr>\n",
              "      <th>4</th>\n",
              "      <td>9</td>\n",
              "      <td>18</td>\n",
              "      <td>29.5</td>\n",
              "      <td>0.0</td>\n",
              "      <td>4.8</td>\n",
              "      <td>7.0</td>\n",
              "      <td>2000.0</td>\n",
              "      <td>0.057</td>\n",
              "      <td>27.0</td>\n",
              "      <td>11.0</td>\n",
              "      <td>431.0</td>\n",
              "    </tr>\n",
              "    <tr>\n",
              "      <th>...</th>\n",
              "      <td>...</td>\n",
              "      <td>...</td>\n",
              "      <td>...</td>\n",
              "      <td>...</td>\n",
              "      <td>...</td>\n",
              "      <td>...</td>\n",
              "      <td>...</td>\n",
              "      <td>...</td>\n",
              "      <td>...</td>\n",
              "      <td>...</td>\n",
              "      <td>...</td>\n",
              "    </tr>\n",
              "    <tr>\n",
              "      <th>95</th>\n",
              "      <td>142</td>\n",
              "      <td>19</td>\n",
              "      <td>25.0</td>\n",
              "      <td>0.0</td>\n",
              "      <td>3.7</td>\n",
              "      <td>24.0</td>\n",
              "      <td>2000.0</td>\n",
              "      <td>0.054</td>\n",
              "      <td>41.0</td>\n",
              "      <td>23.0</td>\n",
              "      <td>252.0</td>\n",
              "    </tr>\n",
              "    <tr>\n",
              "      <th>96</th>\n",
              "      <td>144</td>\n",
              "      <td>22</td>\n",
              "      <td>14.3</td>\n",
              "      <td>0.0</td>\n",
              "      <td>1.7</td>\n",
              "      <td>72.0</td>\n",
              "      <td>820.0</td>\n",
              "      <td>0.006</td>\n",
              "      <td>60.0</td>\n",
              "      <td>45.0</td>\n",
              "      <td>108.0</td>\n",
              "    </tr>\n",
              "    <tr>\n",
              "      <th>97</th>\n",
              "      <td>145</td>\n",
              "      <td>11</td>\n",
              "      <td>23.3</td>\n",
              "      <td>0.0</td>\n",
              "      <td>1.2</td>\n",
              "      <td>32.0</td>\n",
              "      <td>1001.0</td>\n",
              "      <td>0.027</td>\n",
              "      <td>63.0</td>\n",
              "      <td>33.0</td>\n",
              "      <td>104.0</td>\n",
              "    </tr>\n",
              "    <tr>\n",
              "      <th>98</th>\n",
              "      <td>146</td>\n",
              "      <td>19</td>\n",
              "      <td>17.8</td>\n",
              "      <td>0.0</td>\n",
              "      <td>3.6</td>\n",
              "      <td>53.0</td>\n",
              "      <td>746.0</td>\n",
              "      <td>0.040</td>\n",
              "      <td>83.0</td>\n",
              "      <td>47.0</td>\n",
              "      <td>204.0</td>\n",
              "    </tr>\n",
              "    <tr>\n",
              "      <th>99</th>\n",
              "      <td>148</td>\n",
              "      <td>12</td>\n",
              "      <td>18.6</td>\n",
              "      <td>0.0</td>\n",
              "      <td>1.4</td>\n",
              "      <td>57.0</td>\n",
              "      <td>788.0</td>\n",
              "      <td>0.042</td>\n",
              "      <td>74.0</td>\n",
              "      <td>43.0</td>\n",
              "      <td>116.0</td>\n",
              "    </tr>\n",
              "  </tbody>\n",
              "</table>\n",
              "<p>100 rows × 11 columns</p>\n",
              "</div>"
            ],
            "text/plain": [
              "     id  hour  hour_bef_temperature  ...  hour_bef_pm10  hour_bef_pm2.5  count\n",
              "0     3    20                  16.3  ...           76.0            33.0   49.0\n",
              "1     6    13                  20.1  ...           73.0            40.0  159.0\n",
              "2     7     6                  13.9  ...           32.0            19.0   26.0\n",
              "3     8    23                   8.1  ...           75.0            64.0   57.0\n",
              "4     9    18                  29.5  ...           27.0            11.0  431.0\n",
              "..  ...   ...                   ...  ...            ...             ...    ...\n",
              "95  142    19                  25.0  ...           41.0            23.0  252.0\n",
              "96  144    22                  14.3  ...           60.0            45.0  108.0\n",
              "97  145    11                  23.3  ...           63.0            33.0  104.0\n",
              "98  146    19                  17.8  ...           83.0            47.0  204.0\n",
              "99  148    12                  18.6  ...           74.0            43.0  116.0\n",
              "\n",
              "[100 rows x 11 columns]"
            ]
          },
          "metadata": {},
          "execution_count": 6
        }
      ]
    },
    {
      "cell_type": "markdown",
      "metadata": {
        "id": "68bjhUtXUkVi"
      },
      "source": [
        "결측치 확인하기"
      ]
    },
    {
      "cell_type": "code",
      "metadata": {
        "colab": {
          "base_uri": "https://localhost:8080/"
        },
        "id": "IDrv65gXUZq7",
        "outputId": "151947ff-5ca5-4ed8-b70c-a14d207fef22"
      },
      "source": [
        "print(train.isnull())\n",
        "print('\\n--------------------------------train.csv 각 열 별 결측치 수--------------------------------\\n')\n",
        "print(test.isnull().sum())"
      ],
      "execution_count": 7,
      "outputs": [
        {
          "output_type": "stream",
          "name": "stdout",
          "text": [
            "         id   hour  hour_bef_temperature  ...  hour_bef_pm10  hour_bef_pm2.5  count\n",
            "0     False  False                 False  ...          False           False  False\n",
            "1     False  False                 False  ...          False           False  False\n",
            "2     False  False                 False  ...          False           False  False\n",
            "3     False  False                 False  ...          False           False  False\n",
            "4     False  False                 False  ...          False           False  False\n",
            "...     ...    ...                   ...  ...            ...             ...    ...\n",
            "1454  False  False                 False  ...          False           False  False\n",
            "1455  False  False                 False  ...          False           False  False\n",
            "1456  False  False                 False  ...          False           False  False\n",
            "1457  False  False                 False  ...          False           False  False\n",
            "1458  False  False                 False  ...          False           False  False\n",
            "\n",
            "[1459 rows x 11 columns]\n",
            "\n",
            "--------------------------------train.csv 각 열 별 결측치 수--------------------------------\n",
            "\n",
            "id                         0\n",
            "hour                       0\n",
            "hour_bef_temperature       1\n",
            "hour_bef_precipitation     1\n",
            "hour_bef_windspeed         1\n",
            "hour_bef_humidity          1\n",
            "hour_bef_visibility        1\n",
            "hour_bef_ozone            35\n",
            "hour_bef_pm10             37\n",
            "hour_bef_pm2.5            36\n",
            "dtype: int64\n"
          ]
        }
      ]
    },
    {
      "cell_type": "markdown",
      "metadata": {
        "id": "MWXbONxmUyWS"
      },
      "source": [
        "데이터 전처리"
      ]
    },
    {
      "cell_type": "code",
      "metadata": {
        "colab": {
          "base_uri": "https://localhost:8080/"
        },
        "id": "S59wVYeiUl2K",
        "outputId": "b51e0ea3-6874-4095-ccc9-dc7b8872d22d"
      },
      "source": [
        "train.info()\n",
        "test.info()"
      ],
      "execution_count": 8,
      "outputs": [
        {
          "output_type": "stream",
          "name": "stdout",
          "text": [
            "<class 'pandas.core.frame.DataFrame'>\n",
            "RangeIndex: 1459 entries, 0 to 1458\n",
            "Data columns (total 11 columns):\n",
            " #   Column                  Non-Null Count  Dtype  \n",
            "---  ------                  --------------  -----  \n",
            " 0   id                      1459 non-null   int64  \n",
            " 1   hour                    1459 non-null   int64  \n",
            " 2   hour_bef_temperature    1457 non-null   float64\n",
            " 3   hour_bef_precipitation  1457 non-null   float64\n",
            " 4   hour_bef_windspeed      1450 non-null   float64\n",
            " 5   hour_bef_humidity       1457 non-null   float64\n",
            " 6   hour_bef_visibility     1457 non-null   float64\n",
            " 7   hour_bef_ozone          1383 non-null   float64\n",
            " 8   hour_bef_pm10           1369 non-null   float64\n",
            " 9   hour_bef_pm2.5          1342 non-null   float64\n",
            " 10  count                   1459 non-null   float64\n",
            "dtypes: float64(9), int64(2)\n",
            "memory usage: 125.5 KB\n",
            "<class 'pandas.core.frame.DataFrame'>\n",
            "RangeIndex: 715 entries, 0 to 714\n",
            "Data columns (total 10 columns):\n",
            " #   Column                  Non-Null Count  Dtype  \n",
            "---  ------                  --------------  -----  \n",
            " 0   id                      715 non-null    int64  \n",
            " 1   hour                    715 non-null    int64  \n",
            " 2   hour_bef_temperature    714 non-null    float64\n",
            " 3   hour_bef_precipitation  714 non-null    float64\n",
            " 4   hour_bef_windspeed      714 non-null    float64\n",
            " 5   hour_bef_humidity       714 non-null    float64\n",
            " 6   hour_bef_visibility     714 non-null    float64\n",
            " 7   hour_bef_ozone          680 non-null    float64\n",
            " 8   hour_bef_pm10           678 non-null    float64\n",
            " 9   hour_bef_pm2.5          679 non-null    float64\n",
            "dtypes: float64(8), int64(2)\n",
            "memory usage: 56.0 KB\n"
          ]
        }
      ]
    },
    {
      "cell_type": "code",
      "metadata": {
        "id": "5xU3DP7PU0se"
      },
      "source": [
        "train = train.dropna()\n",
        "test = test.fillna(0)"
      ],
      "execution_count": 9,
      "outputs": []
    },
    {
      "cell_type": "markdown",
      "metadata": {
        "id": "uxtCFUDNWq1H"
      },
      "source": [
        "의사결정나무 모델 설정"
      ]
    },
    {
      "cell_type": "code",
      "metadata": {
        "id": "nfgsZ0ANVB4i"
      },
      "source": [
        "import sklearn\n",
        "from sklearn.tree import DecisionTreeClassifier\n",
        "from sklearn.tree import DecisionTreeRegressor"
      ],
      "execution_count": 17,
      "outputs": []
    },
    {
      "cell_type": "markdown",
      "metadata": {
        "id": "jVV0HGZbWDBB"
      },
      "source": [
        "https://scikit-learn.org/stable/"
      ]
    },
    {
      "cell_type": "code",
      "metadata": {
        "id": "ZAptH2ZFWAJm"
      },
      "source": [
        "model = DecisionTreeClassifier()"
      ],
      "execution_count": 18,
      "outputs": []
    },
    {
      "cell_type": "code",
      "metadata": {
        "id": "j2hse9EsWkxn"
      },
      "source": [
        "X_train = train.drop(['count'], axis=1)\n",
        "Y_train = train['count']"
      ],
      "execution_count": 19,
      "outputs": []
    },
    {
      "cell_type": "code",
      "metadata": {
        "colab": {
          "base_uri": "https://localhost:8080/"
        },
        "id": "uRsBxFZLW35W",
        "outputId": "ea18589a-b036-4c43-d729-291df84e0b3a"
      },
      "source": [
        "model = DecisionTreeRegressor()\n",
        "model.fit(X_train, Y_train)"
      ],
      "execution_count": 20,
      "outputs": [
        {
          "output_type": "execute_result",
          "data": {
            "text/plain": [
              "DecisionTreeRegressor()"
            ]
          },
          "metadata": {},
          "execution_count": 20
        }
      ]
    },
    {
      "cell_type": "markdown",
      "metadata": {
        "id": "lNgZq8E3XDJI"
      },
      "source": [
        "X 데이터는 예측에 사용되는 변수이고, Y 데이터는 예측결과 변수다  "
      ]
    },
    {
      "cell_type": "markdown",
      "metadata": {
        "id": "ALvR_CiWXlX2"
      },
      "source": [
        "# 데이터 예측하기"
      ]
    },
    {
      "cell_type": "code",
      "metadata": {
        "colab": {
          "base_uri": "https://localhost:8080/"
        },
        "id": "_h3FsnuzXckq",
        "outputId": "7037af97-8090-425e-b1b7-688fb8350d49"
      },
      "source": [
        "pred = model.predict(test)\n",
        "pred[:5]"
      ],
      "execution_count": 21,
      "outputs": [
        {
          "output_type": "execute_result",
          "data": {
            "text/plain": [
              "array([106., 164., 121.,  49.,  64.])"
            ]
          },
          "metadata": {},
          "execution_count": 21
        }
      ]
    },
    {
      "cell_type": "code",
      "metadata": {
        "id": "ch0pPh7yXoDZ"
      },
      "source": [
        "submission = pd.read_csv('data/submission.csv')"
      ],
      "execution_count": 22,
      "outputs": []
    },
    {
      "cell_type": "code",
      "metadata": {
        "id": "_4NV3lcAX4aX"
      },
      "source": [
        "submission['count'] = pred"
      ],
      "execution_count": 23,
      "outputs": []
    },
    {
      "cell_type": "code",
      "metadata": {
        "id": "gxNvYhOLX5ry"
      },
      "source": [
        "submission.to_csv('sub.csv',index=False)"
      ],
      "execution_count": 24,
      "outputs": []
    },
    {
      "cell_type": "code",
      "metadata": {
        "id": "WiFgaGEyX7BO"
      },
      "source": [
        ""
      ],
      "execution_count": null,
      "outputs": []
    }
  ]
}